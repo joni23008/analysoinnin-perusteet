{
 "cells": [
  {
   "cell_type": "code",
   "execution_count": 2,
   "metadata": {},
   "outputs": [
    {
     "name": "stdout",
     "output_type": "stream",
     "text": [
      "Guess my name or type 'stop' to exit\n",
      "Guess again! (Type 'stop' to exit)\n",
      "The correct answer starts with E\n",
      "Congratulations!\n",
      "You guessed 2 times.\n"
     ]
    }
   ],
   "source": [
    "\n",
    "answer = \"Emma\"\n",
    "\n",
    "count = 0\n",
    "loop_counter = len(answer)\n",
    "\n",
    "print(\"Guess my name or type 'stop' to exit\")\n",
    "\n",
    "while True:\n",
    "    user = input()\n",
    "    count += 1\n",
    "\n",
    "    if user.lower() == \"stop\":\n",
    "        break\n",
    "\n",
    "    if user.lower() == answer.lower():\n",
    "        print(f\"Congratulations!\\nYou guessed {count} times.\")\n",
    "        break\n",
    "    else:\n",
    "        print(\"Guess again! (Type 'stop' to exit)\")\n",
    "        print(\"The correct answer starts with\", end=\" \")\n",
    "\n",
    "        for i in range(count):\n",
    "            clue = answer[i]\n",
    "            print(clue, end=\"\")\n",
    "\n",
    "        print()\n",
    "\n",
    "if user.lower() == \"stop\":\n",
    "    count -= 1\n",
    "    print(f\"You guessed {count} times.\")\n"
   ]
  }
 ],
 "metadata": {
  "kernelspec": {
   "display_name": "Python 3",
   "language": "python",
   "name": "python3"
  },
  "language_info": {
   "codemirror_mode": {
    "name": "ipython",
    "version": 3
   },
   "file_extension": ".py",
   "mimetype": "text/x-python",
   "name": "python",
   "nbconvert_exporter": "python",
   "pygments_lexer": "ipython3",
   "version": "3.11.5"
  }
 },
 "nbformat": 4,
 "nbformat_minor": 2
}
