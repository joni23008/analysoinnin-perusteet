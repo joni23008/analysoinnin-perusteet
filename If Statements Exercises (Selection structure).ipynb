{
 "cells": [
  {
   "cell_type": "markdown",
   "metadata": {},
   "source": [
    "Create new Interactive Python Notebook and try to create the following structures. If condition is true, you can print for example “number 1 and number 2 are equal” (1a).\n",
    "\n",
    "1. Declare two variables number1 and number2. Assign values to the variables. You can (and have to) change the values during this exercise.\n",
    "\n",
    "a. Test if number1 is equal to number2.\n",
    "\n",
    "b. Test if number1 is greater than number2.\n",
    "\n",
    "c. Test if number1 is greater or equal to number2.\n",
    "\n",
    "d. Test if number1 is NOT equal to number2"
   ]
  },
  {
   "cell_type": "code",
   "execution_count": 16,
   "metadata": {},
   "outputs": [
    {
     "name": "stdout",
     "output_type": "stream",
     "text": [
      "number1 is NOT equal to number2.\n"
     ]
    }
   ],
   "source": [
    "number1=5\n",
    "number2=12\n",
    "if number1==number2:\n",
    "    print(\"number 1 and number 2 are equal.\")\n",
    "elif number1>number2:\n",
    "    print(\"number1 is greater than number2.\")\n",
    "elif number1>=number2:\n",
    "    print(\"number1 is greater or equal to number2.\")\n",
    "elif number1!=number2:\n",
    "    print(\"number1 is NOT equal to number2.\")\n"
   ]
  },
  {
   "cell_type": "markdown",
   "metadata": {},
   "source": [
    "2. Declare three variables number1, number2 and number3. Assign values to the variables. Change values to make the tests successfully.\n",
    "\n",
    "a. Test if all numbers are equal.\n",
    "\n",
    "b. Test if number1 and number2 are equal OR number2 and number3 are equal.\n",
    "\n",
    "c. Test if number1 is greater than number2 AND number1 is greater than number3.\n",
    "\n",
    "d. Test if number1 is greater than number2. If not, test if number2 is greater than number3.\n",
    "\n",
    "e. Test if number1 and number2 are equal. If not, test if number1 and number3 are equal."
   ]
  },
  {
   "cell_type": "code",
   "execution_count": 80,
   "metadata": {},
   "outputs": [
    {
     "name": "stdout",
     "output_type": "stream",
     "text": [
      "number1 is greater than number2 and number3.\n",
      "number1 is greater than number2\n",
      "number2 is greater than number3\n"
     ]
    }
   ],
   "source": [
    "number1=10\n",
    "number2=5\n",
    "number3=2\n",
    "if number1==number2 and number2==number3:\n",
    "    print(\"all numbers are equal.\")\n",
    "elif number1==number2 or number2==number3:\n",
    "        if number1==number2:\n",
    "            print(\"number1 and number2 are equal\")\n",
    "        if number2==number3:\n",
    "            print(\"number2 and number3 are equal\")\n",
    "if number1>number2 and number1>number3:\n",
    "    print(\"number1 is greater than number2 and number3.\")\n",
    "if number1>number2 or number2>number3:\n",
    "        if number1>number2:\n",
    "            print(\"number1 is greater than number2\")\n",
    "        if number2>number3:\n",
    "            print(\"number2 is greater than number3\")"
   ]
  },
  {
   "cell_type": "markdown",
   "metadata": {},
   "source": [
    "Make three string typed variable – for example name1, name2 and name3. Assign values.\n",
    "\n",
    "a. Test, if name1 and name2 are equal\n",
    "\n",
    "b. Test, if name1 and name2 are not equal\n",
    "\n",
    "c. Test, if name1 and name2 are equal. If not, test if name1 and name3 are equal."
   ]
  },
  {
   "cell_type": "code",
   "execution_count": 86,
   "metadata": {},
   "outputs": [
    {
     "name": "stdout",
     "output_type": "stream",
     "text": [
      "name1 and name2 are not equal\n",
      "name1 and name3 are equal\n"
     ]
    }
   ],
   "source": [
    "name1,name2,name3=\"joni\",\"uuno\",\"joni\"\n",
    "if name1==name2:\n",
    "    print(\"name1 and name2 are equal\")\n",
    "if name1!=name2:\n",
    "    print(\"name1 and name2 are not equal\")\n",
    "    if name1==name3:\n",
    "        print(\"name1 and name3 are equal\")"
   ]
  }
 ],
 "metadata": {
  "kernelspec": {
   "display_name": "Python 3",
   "language": "python",
   "name": "python3"
  },
  "language_info": {
   "name": "python",
   "version": "3.11.5"
  }
 },
 "nbformat": 4,
 "nbformat_minor": 2
}
