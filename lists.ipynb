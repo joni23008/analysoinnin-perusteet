{
 "cells": [
  {
   "cell_type": "markdown",
   "metadata": {},
   "source": [
    "Exercise 1\n",
    "\n",
    "1. Create list and assign furniture as values (like table, chair, shelf…).\n",
    "\n",
    "2. Print the whole list.\n",
    "\n",
    "3. Change the app so that only first two elements of the list are printed. This can be done by few different ways.\n",
    "\n",
    "4. Change the app so that only “Sofa” is printed if it is found from the list. \n",
    "So, go through the whole list and check if the current element is “Sofa”."
   ]
  },
  {
   "cell_type": "code",
   "execution_count": 22,
   "metadata": {},
   "outputs": [
    {
     "name": "stdout",
     "output_type": "stream",
     "text": [
      "table\n",
      "chair\n",
      "We found no sofa\n"
     ]
    }
   ],
   "source": [
    "import pandas as pd\n",
    "# Creating a Series from a list of numbers\n",
    "furniture = [\"table\", \"chair\", \"shelf\", \"workdesk\", \"tv-stand\",\"sofa\"]\n",
    "series = pd.Series(furniture)\n",
    "\n",
    "# Indexing by Position: retrieving the value at position 2\n",
    "# for x in series:\n",
    "#     print(x)\n",
    "\n",
    "for i in range(2):\n",
    "    print(series[i])\n",
    "\n",
    "if \"sofa\" in furniture:\n",
    "    print(\"Yes we found sofa in the list\")\n",
    "else:\n",
    "    print(\"We found no sofa\")\n"
   ]
  },
  {
   "cell_type": "markdown",
   "metadata": {},
   "source": [
    "Exercise 2\n",
    "\n",
    "1. Create 5 element list. Name it thrownDiceNumbers.\n",
    "\n",
    "2. Pick randomly 5 numbers and assign them to the list. (randint() can be used to generate random number, first you need to do import: import random)\n",
    "\n",
    "3. Print the whole list.\n",
    "\n",
    "4. Count the sum of the list values and print the result.\n",
    "\n",
    "5. Print the highest value of the list. (Hint: Check built in function for list from the material)"
   ]
  },
  {
   "cell_type": "code",
   "execution_count": 76,
   "metadata": {},
   "outputs": [
    {
     "name": "stdout",
     "output_type": "stream",
     "text": [
      "[9, 12, 9, 14, 19]\n",
      "Sum of the list values: 63\n",
      "Sum of the list values: 19\n"
     ]
    }
   ],
   "source": [
    "\n",
    "import random\n",
    "\n",
    "thrownDiceNumbers = [random.randint(1, 20) for _ in range(5)]\n",
    "\n",
    "print(thrownDiceNumbers)\n",
    "\n",
    "sum_of_values = sum(thrownDiceNumbers)\n",
    "print(\"Sum of the list values:\", sum_of_values)\n",
    "\n",
    "highest_of_values = max(thrownDiceNumbers)\n",
    "print(\"Sum of the list values:\", highest_of_values)"
   ]
  }
 ],
 "metadata": {
  "kernelspec": {
   "display_name": "Python 3",
   "language": "python",
   "name": "python3"
  },
  "language_info": {
   "codemirror_mode": {
    "name": "ipython",
    "version": 3
   },
   "file_extension": ".py",
   "mimetype": "text/x-python",
   "name": "python",
   "nbconvert_exporter": "python",
   "pygments_lexer": "ipython3",
   "version": "3.11.5"
  }
 },
 "nbformat": 4,
 "nbformat_minor": 2
}
