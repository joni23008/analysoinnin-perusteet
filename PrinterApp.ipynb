{
 "cells": [
  {
   "cell_type": "markdown",
   "metadata": {},
   "source": [
    "1. Create a new Interactive Python Notebook.\n",
    "\n",
    "2. Print “Printer App”.\n",
    "\n",
    "3. Print “This app is made by:”.\n",
    "\n",
    "4. Declare a string typed variable. Name it creator. Assign your name as the value of the creator variable.\n",
    "\n",
    "5. Print the value of the creator. Try to get it on a same line as “This app is made by:”.\n",
    "\n",
    "6. Declare two numeric variables (for example integers). Name them as number1 and number2. Assign some values to the variables.\n",
    "\n",
    "7. First, try to print the value of number1. When done, comment the line.\n",
    "\n",
    "8. Print “The value of number1 is 5”. Of course 5 may be different depending what value you assigned for number1. Make sure everything works: change the value of number1 and then make sure the printing changes also. For example, if you changed it to 10, the printing should be “The value of number1 is 10”.\n",
    "\n",
    "9. Print “The value of number2 is 3”.\n",
    "\n",
    "10. Declare integer typed variable called multiplication\n",
    "\n",
    "11. Multiply number1 and number2 and assign the result to the multiplication variable.\n",
    "\n",
    "12. Print “5 * 2 = 10”, if your number1 was 5 and number2 2. Notice the spaces. Make sure everything works: Change the values of number1 and number2. The printing should change also.\n",
    "\n",
    "13. Repeat 10-12 for addition, division and substraction. Notice that to make division work right, you may have to change integer types to double.\n",
    "\n",
    "14. Make the code a bit clearer – move all the declarations of the variables to the top of the code.\n",
    "\n",
    "15. You’re done!"
   ]
  },
  {
   "cell_type": "code",
   "execution_count": 12,
   "metadata": {},
   "outputs": [
    {
     "name": "stdout",
     "output_type": "stream",
     "text": [
      "Printer App\n",
      "This app is made by:  Joni Mitronen\n",
      "The value of number1 is 10.0\n",
      "The value of number2 is 10.0\n",
      "10.0 * 10.0 = 100.0\n",
      "10.0 + 10.0 = 20.0\n",
      "10.0 / 10.0 = 1.0\n",
      "10.0 - 10.0 = 0.0\n"
     ]
    }
   ],
   "source": [
    "creator = \"Joni Mitronen\"\n",
    "number1 = 10.0\n",
    "number2 = 10.0\n",
    "multiplication = number1 * number2\n",
    "addition= number1+number2\n",
    "division=number1/number2\n",
    "substraction=number1-number2\n",
    "print(\"Printer App\")\n",
    "print(\"This app is made by: \" , creator)\n",
    "#print(number1)\n",
    "print(\"The value of number1 is\" , number1)\n",
    "print(\"The value of number2 is\" , number2)\n",
    "print(number1,\"*\",number2,\"=\",multiplication)\n",
    "print(number1,\"+\",number2,\"=\",addition)\n",
    "print(number1,\"/\",number2,\"=\",division)\n",
    "print(number1,\"-\",number2,\"=\",substraction)"
   ]
  }
 ],
 "metadata": {
  "kernelspec": {
   "display_name": "Python 3",
   "language": "python",
   "name": "python3"
  },
  "language_info": {
   "codemirror_mode": {
    "name": "ipython",
    "version": 3
   },
   "file_extension": ".py",
   "mimetype": "text/x-python",
   "name": "python",
   "nbconvert_exporter": "python",
   "pygments_lexer": "ipython3",
   "version": "3.11.5"
  }
 },
 "nbformat": 4,
 "nbformat_minor": 2
}
