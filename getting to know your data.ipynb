{
 "cells": [
  {
   "cell_type": "code",
   "execution_count": 19,
   "metadata": {},
   "outputs": [
    {
     "ename": "NameError",
     "evalue": "name 'Date_time' is not defined",
     "output_type": "error",
     "traceback": [
      "\u001b[1;31m---------------------------------------------------------------------------\u001b[0m",
      "\u001b[1;31mNameError\u001b[0m                                 Traceback (most recent call last)",
      "\u001b[1;32mc:\\Users\\jonim\\Documents\\GitHub\\analysoinnin-perusteet\\getting to know your data.ipynb Cell 1\u001b[0m line \u001b[0;36m2\n\u001b[0;32m      <a href='vscode-notebook-cell:/c%3A/Users/jonim/Documents/GitHub/analysoinnin-perusteet/getting%20to%20know%20your%20data.ipynb#W0sZmlsZQ%3D%3D?line=5'>6</a>\u001b[0m ufos \u001b[39m=\u001b[39m pd\u001b[39m.\u001b[39mread_csv(filepath, sep \u001b[39m=\u001b[39m \u001b[39m'\u001b[39m\u001b[39m\\t\u001b[39;00m\u001b[39m'\u001b[39m)\n\u001b[0;32m      <a href='vscode-notebook-cell:/c%3A/Users/jonim/Documents/GitHub/analysoinnin-perusteet/getting%20to%20know%20your%20data.ipynb#W0sZmlsZQ%3D%3D?line=7'>8</a>\u001b[0m \u001b[39m# ufos.columns\u001b[39;00m\n\u001b[0;32m      <a href='vscode-notebook-cell:/c%3A/Users/jonim/Documents/GitHub/analysoinnin-perusteet/getting%20to%20know%20your%20data.ipynb#W0sZmlsZQ%3D%3D?line=8'>9</a>\u001b[0m \u001b[39m# ufos.shape[1]\u001b[39;00m\n\u001b[0;32m     <a href='vscode-notebook-cell:/c%3A/Users/jonim/Documents/GitHub/analysoinnin-perusteet/getting%20to%20know%20your%20data.ipynb#W0sZmlsZQ%3D%3D?line=9'>10</a>\u001b[0m \u001b[39m# ufos.info()\u001b[39;00m\n\u001b[1;32m   (...)\u001b[0m\n\u001b[0;32m     <a href='vscode-notebook-cell:/c%3A/Users/jonim/Documents/GitHub/analysoinnin-perusteet/getting%20to%20know%20your%20data.ipynb#W0sZmlsZQ%3D%3D?line=16'>17</a>\u001b[0m \u001b[39m# column_data_type = ufos['Year'].dtype\u001b[39;00m\n\u001b[0;32m     <a href='vscode-notebook-cell:/c%3A/Users/jonim/Documents/GitHub/analysoinnin-perusteet/getting%20to%20know%20your%20data.ipynb#W0sZmlsZQ%3D%3D?line=17'>18</a>\u001b[0m \u001b[39m# print(column_data_type)\u001b[39;00m\n\u001b[1;32m---> <a href='vscode-notebook-cell:/c%3A/Users/jonim/Documents/GitHub/analysoinnin-perusteet/getting%20to%20know%20your%20data.ipynb#W0sZmlsZQ%3D%3D?line=19'>20</a>\u001b[0m ufos\u001b[39m.\u001b[39msort_values(Date_time)\n",
      "\u001b[1;31mNameError\u001b[0m: name 'Date_time' is not defined"
     ]
    }
   ],
   "source": [
    "import pandas as pd\n",
    "\n",
    "# Import the dataset from this url https://raw.githubusercontent.com/justmarkham/DAT8/master/data/chipotle.tsv\n",
    "# Assign the url to a variable called url and create a dataframe named chipo.\n",
    "filepath = r\"C:\\Users\\jonim\\Documents\\GitHub\\analysoinnin-perusteet\\archive\\ufo-sightings-transformed.csv\"\n",
    "ufos = pd.read_csv(filepath, sep = '\\t')\n",
    "\n",
    "# ufos.columns\n",
    "# ufos.shape[1]\n",
    "# ufos.info()\n",
    "# ufos.shape\n",
    "# ufos.index\n",
    "# column_data_types = ufos.dtypes\n",
    "# print(column_data_types)\n",
    "\n",
    "# TÄST TULI ERROR\n",
    "# column_data_type = ufos['Year'].dtype\n",
    "# print(column_data_type)\n",
    "\n",
    "#TÄSTKIN TULEE ERROR\n",
    "# ufos.sort_values(\"Date_time\")"
   ]
  }
 ],
 "metadata": {
  "kernelspec": {
   "display_name": "Python 3",
   "language": "python",
   "name": "python3"
  },
  "language_info": {
   "codemirror_mode": {
    "name": "ipython",
    "version": 3
   },
   "file_extension": ".py",
   "mimetype": "text/x-python",
   "name": "python",
   "nbconvert_exporter": "python",
   "pygments_lexer": "ipython3",
   "version": "3.11.5"
  }
 },
 "nbformat": 4,
 "nbformat_minor": 2
}
